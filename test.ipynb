{
 "cells": [
  {
   "cell_type": "code",
   "execution_count": 1,
   "id": "attempted-recycling",
   "metadata": {},
   "outputs": [],
   "source": [
    "import data.data.data_utilities as d"
   ]
  },
  {
   "cell_type": "code",
   "execution_count": 2,
   "id": "compact-bloom",
   "metadata": {},
   "outputs": [
    {
     "data": {
      "text/plain": [
       "True"
      ]
     },
     "execution_count": 2,
     "metadata": {},
     "output_type": "execute_result"
    }
   ],
   "source": [
    "d.foo()"
   ]
  },
  {
   "cell_type": "code",
   "execution_count": null,
   "id": "offshore-ticket",
   "metadata": {},
   "outputs": [],
   "source": []
  }
 ],
 "metadata": {
  "kernelspec": {
   "display_name": "Python 3",
   "language": "python",
   "name": "python3"
  },
  "language_info": {
   "codemirror_mode": {
    "name": "ipython",
    "version": 3
   },
   "file_extension": ".py",
   "mimetype": "text/x-python",
   "name": "python",
   "nbconvert_exporter": "python",
   "pygments_lexer": "ipython3",
   "version": "3.9.0"
  }
 },
 "nbformat": 4,
 "nbformat_minor": 5
}
